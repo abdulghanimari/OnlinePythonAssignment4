{
 "cells": [
  {
   "cell_type": "markdown",
   "id": "18c58d20",
   "metadata": {},
   "source": [
    "# Jawan Pakistan \n",
    "## Python Programming Language \n",
    "### Assignment No: 4\n",
    "#### Name: Abdul Ghani Marri Baloch"
   ]
  },
  {
   "cell_type": "markdown",
   "id": "1ee337b2",
   "metadata": {},
   "source": [
    "#### 1. Make a calculator using Python with addition , subtraction ,multiplication ,division and power."
   ]
  },
  {
   "cell_type": "code",
   "execution_count": 3,
   "id": "3b6632cf",
   "metadata": {},
   "outputs": [
    {
     "name": "stdout",
     "output_type": "stream",
     "text": [
      "Enter The Frist Number: 3\n",
      "Enter The Second Number: 4\n",
      "Thank you For Enter The Number.\n",
      "Please Enter One Operator(+,-,*,/,//,%,**): *\n",
      "12\n",
      "Calculator: Thank You So Much For Using Me \n"
     ]
    }
   ],
   "source": [
    "a = int (input('Enter The Frist Number: '))\n",
    "b = int (input('Enter The Second Number: '))\n",
    "print ('Thank you For Enter The Number.')\n",
    "oper = input ('Please Enter One Operator(+,-,*,/,//,%,**): ')\n",
    "if (oper == '+'):\n",
    "    print (a+b)\n",
    "if (oper == '-'):\n",
    "    print (a-b)\n",
    "if (oper == '*'):\n",
    "    print (a*b)\n",
    "if (oper == '/'):\n",
    "    print (a/b)\n",
    "if (oper == '//'):\n",
    "    print (a//b)\n",
    "if (oper == '%'):\n",
    "    print (a%b)\n",
    "if (oper == '**'):\n",
    "    print (a**b)\n",
    "\n",
    "print (\"Calculator: Thank You So Much For Using Me \")"
   ]
  },
  {
   "cell_type": "markdown",
   "id": "5c241afc",
   "metadata": {},
   "source": [
    "#### 2. Write a program to check if there is any numeric value in list using for loop."
   ]
  },
  {
   "cell_type": "code",
   "execution_count": 21,
   "id": "d0626496",
   "metadata": {},
   "outputs": [
    {
     "name": "stdout",
     "output_type": "stream",
     "text": [
      "1 [1, 2, 3, 4, 5, 6, 7, 8, 9, 10]\n",
      "2 [1, 2, 3, 4, 5, 6, 7, 8, 9, 10]\n",
      "3 [1, 2, 3, 4, 5, 6, 7, 8, 9, 10]\n",
      "4 [1, 2, 3, 4, 5, 6, 7, 8, 9, 10]\n",
      "5 [1, 2, 3, 4, 5, 6, 7, 8, 9, 10]\n",
      "6 [1, 2, 3, 4, 5, 6, 7, 8, 9, 10]\n",
      "7 [1, 2, 3, 4, 5, 6, 7, 8, 9, 10]\n",
      "8 [1, 2, 3, 4, 5, 6, 7, 8, 9, 10]\n",
      "9 [1, 2, 3, 4, 5, 6, 7, 8, 9, 10]\n"
     ]
    }
   ],
   "source": [
    "a = [1,2,3,4,5,6,7,8,9,10,]\n",
    "for i in range(1,10):\n",
    "    print (i,a)"
   ]
  },
  {
   "cell_type": "markdown",
   "id": "21f863fd",
   "metadata": {},
   "source": [
    "#### 3. Write a Python script to add a key to a dictionary."
   ]
  },
  {
   "cell_type": "code",
   "execution_count": 10,
   "id": "7369c9c3",
   "metadata": {},
   "outputs": [
    {
     "name": "stdout",
     "output_type": "stream",
     "text": [
      "0 10\n",
      "2 20\n",
      "3 30\n",
      "4 40\n",
      "5 50\n"
     ]
    }
   ],
   "source": [
    "a = {0:'10',2:'20',3:'30',4:'40',5:'50'}\n",
    "\n",
    "for key,value in a.items ():\n",
    "    print (key, value)\n"
   ]
  },
  {
   "cell_type": "markdown",
   "id": "1775040a",
   "metadata": {},
   "source": [
    "#### 4. Write a Python program to sum all the numeric items in a dictionary."
   ]
  },
  {
   "cell_type": "code",
   "execution_count": 29,
   "id": "59afda8f",
   "metadata": {},
   "outputs": [
    {
     "name": "stdout",
     "output_type": "stream",
     "text": [
      "80\n",
      "170\n",
      "240\n",
      "300\n",
      "391\n",
      "Final Result:  391\n"
     ]
    }
   ],
   "source": [
    "dic = {'enlgish':80, 'Python':90, 'Math':70, 'Urdu':60, 'Programming':91,}\n",
    "sum = 0\n",
    "for i in dic.values ():\n",
    "    sum = sum+i\n",
    "    print (sum)\n",
    "else: \n",
    "    print (\"Final Result: \",sum)"
   ]
  },
  {
   "cell_type": "markdown",
   "id": "85c0ab8e",
   "metadata": {},
   "source": [
    "#### 5. Write a program to identify duplicate values from list."
   ]
  },
  {
   "cell_type": "code",
   "execution_count": 32,
   "id": "81a36fad",
   "metadata": {},
   "outputs": [
    {
     "name": "stdout",
     "output_type": "stream",
     "text": [
      "50\n",
      "60\n",
      "70\n",
      "80\n"
     ]
    }
   ],
   "source": [
    "list1 = [20,40,50,60,70,80,90,]\n",
    "list2 = [10,30,40,20,100,90,]\n",
    "\n",
    "for i in list1:\n",
    "    if i not in list2:\n",
    "        list2.append(i)\n",
    "        print (i)"
   ]
  },
  {
   "cell_type": "markdown",
   "id": "f60a53d0",
   "metadata": {},
   "source": [
    "####  6. Write a Python script to check if a given key already exists in a dictionary."
   ]
  },
  {
   "cell_type": "code",
   "execution_count": 8,
   "id": "f14a6c7f",
   "metadata": {},
   "outputs": [
    {
     "name": "stdout",
     "output_type": "stream",
     "text": [
      "Enter The Key to be verified: Abdul Ghani\n",
      "Key is present in the dictionary\n",
      "value : 900\n"
     ]
    }
   ],
   "source": [
    "dic = {'Abdul Ghani':900, 'Marri':300, 'sidra':400, 'shah':500, 'asad':600,}\n",
    "user_ip = input ('Enter The Key to be verified: ')\n",
    "if user_ip in dic.keys ():\n",
    "    print ('Key is present in the dictionary')\n",
    "    print ('value', ':', dic[user_ip])\n",
    "else:\n",
    "    print ('Key do not present in the dictionary')"
   ]
  },
  {
   "cell_type": "code",
   "execution_count": null,
   "id": "abf0bfbf",
   "metadata": {},
   "outputs": [],
   "source": []
  }
 ],
 "metadata": {
  "kernelspec": {
   "display_name": "Python 3",
   "language": "python",
   "name": "python3"
  },
  "language_info": {
   "codemirror_mode": {
    "name": "ipython",
    "version": 3
   },
   "file_extension": ".py",
   "mimetype": "text/x-python",
   "name": "python",
   "nbconvert_exporter": "python",
   "pygments_lexer": "ipython3",
   "version": "3.8.8"
  }
 },
 "nbformat": 4,
 "nbformat_minor": 5
}
